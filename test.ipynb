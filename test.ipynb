{
 "cells": [
  {
   "cell_type": "markdown",
   "metadata": {
    "ExecuteTime": {
     "end_time": "2020-04-01T14:15:16.992990Z",
     "start_time": "2020-04-01T14:15:16.688810Z"
    }
   },
   "source": [
    "## AWS ElasticSearch KNN Tests"
   ]
  },
  {
   "cell_type": "code",
   "execution_count": 108,
   "metadata": {
    "ExecuteTime": {
     "end_time": "2020-04-17T20:51:16.906531Z",
     "start_time": "2020-04-17T20:51:16.739826Z"
    }
   },
   "outputs": [],
   "source": [
    "from elasticsearch import Elasticsearch, RequestsHttpConnection\n",
    "from requests_aws4auth import AWS4Auth\n",
    "import boto3"
   ]
  },
  {
   "cell_type": "code",
   "execution_count": 157,
   "metadata": {
    "ExecuteTime": {
     "end_time": "2020-04-17T20:51:18.197580Z",
     "start_time": "2020-04-17T20:51:18.192959Z"
    }
   },
   "outputs": [],
   "source": [
    "# host = '' # For example, my-test-domain.us-east-1.es.amazonaws.com\n",
    "# region = '' # e.g. us-west-1\n",
    "\n",
    "#host = \"search-alion-test2-4sb55az5ow7h7koojlem6w7ria.us-east-1.es.amazonaws.com/\"\n",
    "#host = \"https://vpc-aliontest2-qjamtzemjlnb2hkttspsj67x3i.us-east-1.es.amazonaws.com\"\n",
    "#host = \"https://vpc-aliontest2-qjamtzemjlnb2hkttspsj67x3i.us-east-1.es.amazonaws.com/\"\n",
    "#host = \"https://search-aliontest3-suqzkmvjgko3qpaykksy6iz6ci.us-east-1.es.amazonaws.com\"\n",
    "#host = \"https://search-aliontest4-jz4uagf2mg56r6xj5wp7kqlmpq.us-east-1.es.amazonaws.com\"\n",
    "\n",
    "\n",
    "\"\"\"\n",
    "notes to future setup\n",
    "test\n",
    "host is the vpc endpoint of the ES domain minus the 'https://' and '/' at the start and end\n",
    "\n",
    "\n",
    "\"\"\"\n",
    "\n",
    "\n",
    "host = \"search-aliontest1-vvw7pstcvgijdcmwjl65n2dxpa.us-east-1.es.amazonaws.com\"\n",
    "region = \"us-east-1\""
   ]
  },
  {
   "cell_type": "code",
   "execution_count": 158,
   "metadata": {
    "ExecuteTime": {
     "end_time": "2020-04-17T20:51:18.818712Z",
     "start_time": "2020-04-17T20:51:18.724009Z"
    }
   },
   "outputs": [],
   "source": [
    "service = \"es\"\n",
    "credentials = boto3.Session().get_credentials()\n",
    "awsauth = AWS4Auth(credentials.access_key, credentials.secret_key, region, service, session_token=credentials.token)\n"
   ]
  },
  {
   "cell_type": "code",
   "execution_count": 111,
   "metadata": {
    "ExecuteTime": {
     "end_time": "2020-04-17T20:52:41.743893Z",
     "start_time": "2020-04-17T20:52:40.508359Z"
    },
    "scrolled": false
   },
   "outputs": [
    {
     "name": "stdout",
     "output_type": "stream",
     "text": [
      "search-aliontest1-vvw7pstcvgijdcmwjl65n2dxpa.us-east-1.es.amazonaws.com\n",
      "{'name': 'd84ac9305698b88b417cf6867afb5622', 'cluster_name': '003440510767:aliontest1', 'cluster_uuid': '8EmQDY1RTceu05N9ujjtSA', 'version': {'number': '7.4.2', 'build_flavor': 'oss', 'build_type': 'tar', 'build_hash': 'unknown', 'build_date': '2020-05-05T04:47:06.936807Z', 'build_snapshot': False, 'lucene_version': '8.2.0', 'minimum_wire_compatibility_version': '6.8.0', 'minimum_index_compatibility_version': '6.0.0-beta1'}, 'tagline': 'You Know, for Search'}\n"
     ]
    }
   ],
   "source": [
    "### Check can connect to host\n",
    "\n",
    "#response = client.describe_elasticsearch_domain(\n",
    "#    DomainName='string'\n",
    "#)\n",
    "\n",
    "\n",
    "# host = \"search-alion-test-6yrydpasjr7pyfktt3odnhpbxy.us-east-1.es.amazonaws.com\"\n",
    "# host = \"https://alion-test.us-east-1.es.amazonaws.com\"\n",
    "\n",
    "\n",
    "print(host)\n",
    "es = Elasticsearch(\n",
    "    hosts = [{'host': host, 'port': 443}],\n",
    "#      http_auth = awsauth,\n",
    "    use_ssl = True,\n",
    "    verify_certs = True,\n",
    "    connection_class = RequestsHttpConnection\n",
    ")\n",
    "\n",
    "print(es.info())"
   ]
  },
  {
   "cell_type": "code",
   "execution_count": 149,
   "metadata": {},
   "outputs": [
    {
     "name": "stdout",
     "output_type": "stream",
     "text": [
      "Created Index\n"
     ]
    }
   ],
   "source": [
    "### create knn index as type doc\n",
    "\n",
    "index_name = \"knn\"\n",
    "created = False\n",
    "# index settings\n",
    "settings = {\n",
    "        \"settings\": {\n",
    "            \"number_of_shards\": 1,\n",
    "            \"number_of_replicas\": 0\n",
    "        },\n",
    "        \"mappings\": {\n",
    "                \"properties\": {\n",
    "                    \"my_vector\": {\n",
    "                        \"type\": \"knn_vector\",\n",
    "                        \"dimension\": 768\n",
    "                    },\n",
    "                    \"keywords\": {\n",
    "                        \"type\": \"keyword\"\n",
    "                    }\n",
    "                }\n",
    "            \n",
    "        }\n",
    "    }\n",
    "try:\n",
    "    if not es.indices.exists(index_name):\n",
    "        es.indices.create(index=index_name, body=settings)\n",
    "        print('Created Index')\n",
    "    else:\n",
    "        print(\"index exists\")\n",
    "except Exception as ex:\n",
    "    print(str(ex))\n",
    "    "
   ]
  },
  {
   "cell_type": "code",
   "execution_count": 150,
   "metadata": {},
   "outputs": [
    {
     "data": {
      "text/plain": [
       "{'took': 1,\n",
       " 'timed_out': False,\n",
       " '_shards': {'total': 1, 'successful': 1, 'skipped': 0, 'failed': 0},\n",
       " 'hits': {'total': {'value': 0, 'relation': 'eq'},\n",
       "  'max_score': None,\n",
       "  'hits': []}}"
      ]
     },
     "execution_count": 150,
     "metadata": {},
     "output_type": "execute_result"
    }
   ],
   "source": [
    "### search the new index to check is created\n",
    "\n",
    "\n",
    "es.search(index='knn',body=None)\n",
    "\n"
   ]
  },
  {
   "cell_type": "code",
   "execution_count": 151,
   "metadata": {},
   "outputs": [
    {
     "name": "stdout",
     "output_type": "stream",
     "text": [
      "{'took': 24, 'errors': False, 'items': [{'index': {'_index': 'knn', '_type': '_doc', '_id': '2', '_version': 1, 'result': 'created', '_shards': {'total': 1, 'successful': 1, 'failed': 0}, '_seq_no': 0, '_primary_term': 1, 'status': 201}}]}\n"
     ]
    },
    {
     "data": {
      "text/plain": [
       "'\\nes.bulk(\\n    body=[\\n        {\"index\": {\"_index\": \"test\", \"_id\": \"1\"}},\\n        {\"field1\": \"value1\"},\\n        {\"delete\": {\"_index\": \"test\", \"_id\": \"2\"}},\\n        {\"create\": {\"_index\": \"test\", \"_id\": \"3\"}},\\n        {\"field1\": \"value3\"},\\n        {\"update\": {\"_id\": \"1\", \"_index\": \"test\"}},\\n        {\"knn_vector\": {\"keyword\": \"test\"}},\\n    ],\\n)\\n'"
      ]
     },
     "execution_count": 151,
     "metadata": {},
     "output_type": "execute_result"
    }
   ],
   "source": [
    "### add 2 test keywords\n",
    "\n",
    "import numpy as np\n",
    "\n",
    "index_name = \"knn\"\n",
    "index_property = \"keywords\"\n",
    "\n",
    "index_name = \"knn\"\n",
    "vector_name = \"my_vector\"\n",
    "keyword_name = \"testkeyword\"\n",
    "\n",
    "embedding= np.random.rand(768).tolist()\n",
    "\n",
    "\n",
    "r = es.bulk(\n",
    "    body=[\n",
    "    { \"index\": {\"_index\":index_name, \"_id\": 2 }},\n",
    "    { vector_name: embedding, \"price\":1,keyword_name: [\"test1\",\"test2\"]}\n",
    "    ])\n",
    "\n",
    "print(r)\n",
    "\n",
    "\n",
    "# doc ex for bulk\n",
    "\"\"\"\n",
    "es.bulk(\n",
    "    body=[\n",
    "        {\"index\": {\"_index\": \"test\", \"_id\": \"1\"}},\n",
    "        {\"field1\": \"value1\"},\n",
    "        {\"delete\": {\"_index\": \"test\", \"_id\": \"2\"}},\n",
    "        {\"create\": {\"_index\": \"test\", \"_id\": \"3\"}},\n",
    "        {\"field1\": \"value3\"},\n",
    "        {\"update\": {\"_id\": \"1\", \"_index\": \"test\"}},\n",
    "        {\"knn_vector\": {\"keyword\": \"test\"}},\n",
    "    ],\n",
    ")\n",
    "\"\"\"\n"
   ]
  },
  {
   "cell_type": "markdown",
   "metadata": {
    "ExecuteTime": {
     "end_time": "2020-04-01T14:27:28.440581Z",
     "start_time": "2020-04-01T14:27:28.427223Z"
    }
   },
   "source": [
    "### Bulk Upload"
   ]
  },
  {
   "cell_type": "code",
   "execution_count": 152,
   "metadata": {
    "ExecuteTime": {
     "end_time": "2020-06-22T14:23:21.583230Z",
     "start_time": "2020-06-22T14:23:21.569554Z"
    }
   },
   "outputs": [
    {
     "name": "stdout",
     "output_type": "stream",
     "text": [
      "Total passages in bulk: 2000\n"
     ]
    }
   ],
   "source": [
    "# num_passage = int(1e7) # 10 million\n",
    "num_passage_per_batch = 20#int(1e2)\n",
    "num_batch = 100 # half number of batches cause Im on spotty internet\n",
    "print(\"Total passages in bulk: {}\".format(num_passage_per_batch*num_batch))\n",
    "\n",
    "# INDEX_NAME = \"knn-test\""
   ]
  },
  {
   "cell_type": "code",
   "execution_count": 154,
   "metadata": {
    "ExecuteTime": {
     "end_time": "2020-04-06T14:37:47.747842Z",
     "start_time": "2020-04-05T22:18:05.755004Z"
    },
    "scrolled": true
   },
   "outputs": [
    {
     "name": "stderr",
     "output_type": "stream",
     "text": [
      "100%|██████████| 20/20 [00:00<00:00, 12803.13it/s]"
     ]
    },
    {
     "name": "stdout",
     "output_type": "stream",
     "text": [
      "Current iter num: 1\n"
     ]
    },
    {
     "name": "stderr",
     "output_type": "stream",
     "text": [
      "\n",
      "100%|██████████| 20/20 [00:00<00:00, 7730.01it/s]"
     ]
    },
    {
     "name": "stdout",
     "output_type": "stream",
     "text": [
      "Average batch time for batch 1 is 1.3299\n",
      "Current iter num: 2\n"
     ]
    },
    {
     "name": "stderr",
     "output_type": "stream",
     "text": [
      "\n",
      "100%|██████████| 20/20 [00:00<00:00, 8018.17it/s]"
     ]
    },
    {
     "name": "stdout",
     "output_type": "stream",
     "text": [
      "Average batch time for batch 2 is 1.188\n",
      "Current iter num: 3\n"
     ]
    },
    {
     "name": "stderr",
     "output_type": "stream",
     "text": [
      "\n",
      "100%|██████████| 20/20 [00:00<00:00, 11748.75it/s]"
     ]
    },
    {
     "name": "stdout",
     "output_type": "stream",
     "text": [
      "Average batch time for batch 3 is 1.206\n",
      "Current iter num: 4\n"
     ]
    },
    {
     "name": "stderr",
     "output_type": "stream",
     "text": [
      "\n",
      "100%|██████████| 20/20 [00:00<00:00, 10542.43it/s]"
     ]
    },
    {
     "name": "stdout",
     "output_type": "stream",
     "text": [
      "Average batch time for batch 4 is 1.2026\n",
      "Current iter num: 5\n"
     ]
    },
    {
     "name": "stderr",
     "output_type": "stream",
     "text": [
      "\n",
      "100%|██████████| 20/20 [00:00<00:00, 27971.35it/s]"
     ]
    },
    {
     "name": "stdout",
     "output_type": "stream",
     "text": [
      "Average batch time for batch 5 is 1.2022\n",
      "Current iter num: 6\n"
     ]
    },
    {
     "name": "stderr",
     "output_type": "stream",
     "text": [
      "\n",
      "100%|██████████| 20/20 [00:00<00:00, 6300.12it/s]"
     ]
    },
    {
     "name": "stdout",
     "output_type": "stream",
     "text": [
      "Average batch time for batch 6 is 1.2417\n",
      "Current iter num: 7\n"
     ]
    },
    {
     "name": "stderr",
     "output_type": "stream",
     "text": [
      "\n",
      "100%|██████████| 20/20 [00:00<00:00, 12692.70it/s]\n",
      "100%|██████████| 20/20 [00:00<00:00, 15423.07it/s]"
     ]
    },
    {
     "name": "stdout",
     "output_type": "stream",
     "text": [
      "Average batch time for batch 7 is 1.2138\n",
      "Current iter num: 8\n",
      "Average batch time for batch 8 is 1.0852\n",
      "Current iter num: 9\n"
     ]
    },
    {
     "name": "stderr",
     "output_type": "stream",
     "text": [
      "\n",
      "100%|██████████| 20/20 [00:00<00:00, 9094.33it/s]\n"
     ]
    },
    {
     "name": "stdout",
     "output_type": "stream",
     "text": [
      "Average batch time for batch 9 is 0.9861\n",
      "Current iter num: 10\n"
     ]
    },
    {
     "name": "stderr",
     "output_type": "stream",
     "text": [
      "100%|██████████| 20/20 [00:00<00:00, 19288.59it/s]"
     ]
    },
    {
     "name": "stdout",
     "output_type": "stream",
     "text": [
      "Average batch time for batch 10 is 0.9327\n",
      "Current iter num: 11\n"
     ]
    },
    {
     "name": "stderr",
     "output_type": "stream",
     "text": [
      "\n",
      "100%|██████████| 20/20 [00:00<00:00, 22844.79it/s]"
     ]
    },
    {
     "name": "stdout",
     "output_type": "stream",
     "text": [
      "Average batch time for batch 11 is 0.8802\n",
      "Current iter num: 12\n"
     ]
    },
    {
     "name": "stderr",
     "output_type": "stream",
     "text": [
      "\n",
      "100%|██████████| 20/20 [00:00<00:00, 5333.21it/s]"
     ]
    },
    {
     "name": "stdout",
     "output_type": "stream",
     "text": [
      "Average batch time for batch 12 is 0.8321\n",
      "Current iter num: 13\n"
     ]
    },
    {
     "name": "stderr",
     "output_type": "stream",
     "text": [
      "\n",
      "100%|██████████| 20/20 [00:00<00:00, 10375.52it/s]"
     ]
    },
    {
     "name": "stdout",
     "output_type": "stream",
     "text": [
      "Average batch time for batch 13 is 0.7875\n",
      "Current iter num: 14\n"
     ]
    },
    {
     "name": "stderr",
     "output_type": "stream",
     "text": [
      "\n",
      "100%|██████████| 20/20 [00:00<00:00, 11883.56it/s]"
     ]
    },
    {
     "name": "stdout",
     "output_type": "stream",
     "text": [
      "Average batch time for batch 14 is 0.7611\n",
      "Current iter num: 15\n"
     ]
    },
    {
     "name": "stderr",
     "output_type": "stream",
     "text": [
      "\n",
      "100%|██████████| 20/20 [00:00<00:00, 10441.38it/s]"
     ]
    },
    {
     "name": "stdout",
     "output_type": "stream",
     "text": [
      "Average batch time for batch 15 is 0.742\n",
      "Current iter num: 16\n"
     ]
    },
    {
     "name": "stderr",
     "output_type": "stream",
     "text": [
      "\n",
      "100%|██████████| 20/20 [00:00<00:00, 4333.41it/s]"
     ]
    },
    {
     "name": "stdout",
     "output_type": "stream",
     "text": [
      "Average batch time for batch 16 is 0.7396\n",
      "Current iter num: 17\n"
     ]
    },
    {
     "name": "stderr",
     "output_type": "stream",
     "text": [
      "\n",
      "100%|██████████| 20/20 [00:00<00:00, 6654.46it/s]"
     ]
    },
    {
     "name": "stdout",
     "output_type": "stream",
     "text": [
      "Average batch time for batch 17 is 0.7383\n",
      "Current iter num: 18\n"
     ]
    },
    {
     "name": "stderr",
     "output_type": "stream",
     "text": [
      "\n",
      "100%|██████████| 20/20 [00:00<00:00, 5173.04it/s]"
     ]
    },
    {
     "name": "stdout",
     "output_type": "stream",
     "text": [
      "Average batch time for batch 18 is 0.724\n",
      "Current iter num: 19\n"
     ]
    },
    {
     "name": "stderr",
     "output_type": "stream",
     "text": [
      "\n",
      "100%|██████████| 20/20 [00:00<00:00, 5975.64it/s]"
     ]
    },
    {
     "name": "stdout",
     "output_type": "stream",
     "text": [
      "Average batch time for batch 19 is 0.7365\n",
      "Current iter num: 20\n"
     ]
    },
    {
     "name": "stderr",
     "output_type": "stream",
     "text": [
      "\n",
      "100%|██████████| 20/20 [00:00<00:00, 12291.00it/s]"
     ]
    },
    {
     "name": "stdout",
     "output_type": "stream",
     "text": [
      "Average batch time for batch 20 is 0.7477\n",
      "Current iter num: 21\n"
     ]
    },
    {
     "name": "stderr",
     "output_type": "stream",
     "text": [
      "\n",
      "100%|██████████| 20/20 [00:00<00:00, 10412.87it/s]"
     ]
    },
    {
     "name": "stdout",
     "output_type": "stream",
     "text": [
      "Average batch time for batch 21 is 0.7806\n",
      "Current iter num: 22\n"
     ]
    },
    {
     "name": "stderr",
     "output_type": "stream",
     "text": [
      "\n",
      "100%|██████████| 20/20 [00:00<00:00, 5342.04it/s]"
     ]
    },
    {
     "name": "stdout",
     "output_type": "stream",
     "text": [
      "Average batch time for batch 22 is 0.7636\n",
      "Current iter num: 23\n"
     ]
    },
    {
     "name": "stderr",
     "output_type": "stream",
     "text": [
      "\n",
      "100%|██████████| 20/20 [00:00<00:00, 7798.28it/s]"
     ]
    },
    {
     "name": "stdout",
     "output_type": "stream",
     "text": [
      "Average batch time for batch 23 is 0.7622\n",
      "Current iter num: 24\n"
     ]
    },
    {
     "name": "stderr",
     "output_type": "stream",
     "text": [
      "\n",
      "100%|██████████| 20/20 [00:00<00:00, 6421.16it/s]"
     ]
    },
    {
     "name": "stdout",
     "output_type": "stream",
     "text": [
      "Average batch time for batch 24 is 0.7506\n",
      "Current iter num: 25\n"
     ]
    },
    {
     "name": "stderr",
     "output_type": "stream",
     "text": [
      "\n",
      "100%|██████████| 20/20 [00:00<00:00, 6293.03it/s]"
     ]
    },
    {
     "name": "stdout",
     "output_type": "stream",
     "text": [
      "Average batch time for batch 25 is 0.7455\n",
      "Current iter num: 26\n"
     ]
    },
    {
     "name": "stderr",
     "output_type": "stream",
     "text": [
      "\n",
      "100%|██████████| 20/20 [00:00<00:00, 7351.33it/s]"
     ]
    },
    {
     "name": "stdout",
     "output_type": "stream",
     "text": [
      "Average batch time for batch 26 is 0.753\n",
      "Current iter num: 27\n"
     ]
    },
    {
     "name": "stderr",
     "output_type": "stream",
     "text": [
      "\n",
      "100%|██████████| 20/20 [00:00<00:00, 6598.45it/s]"
     ]
    },
    {
     "name": "stdout",
     "output_type": "stream",
     "text": [
      "Average batch time for batch 27 is 0.7605\n",
      "Current iter num: 28\n"
     ]
    },
    {
     "name": "stderr",
     "output_type": "stream",
     "text": [
      "\n",
      "100%|██████████| 20/20 [00:00<00:00, 8448.59it/s]"
     ]
    },
    {
     "name": "stdout",
     "output_type": "stream",
     "text": [
      "Average batch time for batch 28 is 0.7677\n",
      "Current iter num: 29\n"
     ]
    },
    {
     "name": "stderr",
     "output_type": "stream",
     "text": [
      "\n",
      "100%|██████████| 20/20 [00:00<00:00, 6075.62it/s]"
     ]
    },
    {
     "name": "stdout",
     "output_type": "stream",
     "text": [
      "Average batch time for batch 29 is 0.7743\n",
      "Current iter num: 30\n"
     ]
    },
    {
     "name": "stderr",
     "output_type": "stream",
     "text": [
      "\n",
      "100%|██████████| 20/20 [00:00<00:00, 7727.87it/s]"
     ]
    },
    {
     "name": "stdout",
     "output_type": "stream",
     "text": [
      "Average batch time for batch 30 is 0.8044\n",
      "Current iter num: 31\n"
     ]
    },
    {
     "name": "stderr",
     "output_type": "stream",
     "text": [
      "\n",
      "100%|██████████| 20/20 [00:00<00:00, 7202.38it/s]"
     ]
    },
    {
     "name": "stdout",
     "output_type": "stream",
     "text": [
      "Average batch time for batch 31 is 0.7947\n",
      "Current iter num: 32\n"
     ]
    },
    {
     "name": "stderr",
     "output_type": "stream",
     "text": [
      "\n",
      "100%|██████████| 20/20 [00:00<00:00, 5826.23it/s]"
     ]
    },
    {
     "name": "stdout",
     "output_type": "stream",
     "text": [
      "Average batch time for batch 32 is 0.7822\n",
      "Current iter num: 33\n"
     ]
    },
    {
     "name": "stderr",
     "output_type": "stream",
     "text": [
      "\n",
      "100%|██████████| 20/20 [00:00<00:00, 7755.74it/s]"
     ]
    },
    {
     "name": "stdout",
     "output_type": "stream",
     "text": [
      "Average batch time for batch 33 is 0.7738\n",
      "Current iter num: 34\n"
     ]
    },
    {
     "name": "stderr",
     "output_type": "stream",
     "text": [
      "\n",
      "100%|██████████| 20/20 [00:00<00:00, 7042.74it/s]"
     ]
    },
    {
     "name": "stdout",
     "output_type": "stream",
     "text": [
      "Average batch time for batch 34 is 0.7679\n",
      "Current iter num: 35\n"
     ]
    },
    {
     "name": "stderr",
     "output_type": "stream",
     "text": [
      "\n",
      "100%|██████████| 20/20 [00:00<00:00, 8561.55it/s]"
     ]
    },
    {
     "name": "stdout",
     "output_type": "stream",
     "text": [
      "Average batch time for batch 35 is 0.7631\n",
      "Current iter num: 36\n"
     ]
    },
    {
     "name": "stderr",
     "output_type": "stream",
     "text": [
      "\n",
      "100%|██████████| 20/20 [00:00<00:00, 4364.52it/s]"
     ]
    },
    {
     "name": "stdout",
     "output_type": "stream",
     "text": [
      "Average batch time for batch 36 is 0.782\n",
      "Current iter num: 37\n"
     ]
    },
    {
     "name": "stderr",
     "output_type": "stream",
     "text": [
      "\n",
      "100%|██████████| 20/20 [00:00<00:00, 5849.39it/s]"
     ]
    },
    {
     "name": "stdout",
     "output_type": "stream",
     "text": [
      "Average batch time for batch 37 is 0.7868\n",
      "Current iter num: 38\n"
     ]
    },
    {
     "name": "stderr",
     "output_type": "stream",
     "text": [
      "\n",
      "100%|██████████| 20/20 [00:00<00:00, 5681.41it/s]"
     ]
    },
    {
     "name": "stdout",
     "output_type": "stream",
     "text": [
      "Average batch time for batch 38 is 0.785\n",
      "Current iter num: 39\n"
     ]
    },
    {
     "name": "stderr",
     "output_type": "stream",
     "text": [
      "\n",
      "100%|██████████| 20/20 [00:00<00:00, 12035.31it/s]"
     ]
    },
    {
     "name": "stdout",
     "output_type": "stream",
     "text": [
      "Average batch time for batch 39 is 0.7895\n",
      "Current iter num: 40\n"
     ]
    },
    {
     "name": "stderr",
     "output_type": "stream",
     "text": [
      "\n",
      "100%|██████████| 20/20 [00:00<00:00, 5093.88it/s]"
     ]
    },
    {
     "name": "stdout",
     "output_type": "stream",
     "text": [
      "Average batch time for batch 40 is 0.7878\n",
      "Current iter num: 41\n"
     ]
    },
    {
     "name": "stderr",
     "output_type": "stream",
     "text": [
      "\n",
      "100%|██████████| 20/20 [00:00<00:00, 7691.74it/s]"
     ]
    },
    {
     "name": "stdout",
     "output_type": "stream",
     "text": [
      "Average batch time for batch 41 is 0.7919\n",
      "Current iter num: 42\n"
     ]
    },
    {
     "name": "stderr",
     "output_type": "stream",
     "text": [
      "\n",
      "100%|██████████| 20/20 [00:00<00:00, 7531.52it/s]"
     ]
    },
    {
     "name": "stdout",
     "output_type": "stream",
     "text": [
      "Average batch time for batch 42 is 0.7794\n",
      "Current iter num: 43\n"
     ]
    },
    {
     "name": "stderr",
     "output_type": "stream",
     "text": [
      "\n",
      "100%|██████████| 20/20 [00:00<00:00, 6183.55it/s]"
     ]
    },
    {
     "name": "stdout",
     "output_type": "stream",
     "text": [
      "Average batch time for batch 43 is 0.7727\n",
      "Current iter num: 44\n"
     ]
    },
    {
     "name": "stderr",
     "output_type": "stream",
     "text": [
      "\n",
      "100%|██████████| 20/20 [00:00<00:00, 7779.48it/s]"
     ]
    },
    {
     "name": "stdout",
     "output_type": "stream",
     "text": [
      "Average batch time for batch 44 is 0.7676\n",
      "Current iter num: 45\n"
     ]
    },
    {
     "name": "stderr",
     "output_type": "stream",
     "text": [
      "\n",
      "100%|██████████| 20/20 [00:00<00:00, 25093.05it/s]"
     ]
    },
    {
     "name": "stdout",
     "output_type": "stream",
     "text": [
      "Average batch time for batch 45 is 0.7602\n",
      "Current iter num: 46\n"
     ]
    },
    {
     "name": "stderr",
     "output_type": "stream",
     "text": [
      "\n",
      "100%|██████████| 20/20 [00:00<00:00, 7587.38it/s]"
     ]
    },
    {
     "name": "stdout",
     "output_type": "stream",
     "text": [
      "Average batch time for batch 46 is 0.7547\n",
      "Current iter num: 47\n"
     ]
    },
    {
     "name": "stderr",
     "output_type": "stream",
     "text": [
      "\n",
      "100%|██████████| 20/20 [00:00<00:00, 7685.39it/s]"
     ]
    },
    {
     "name": "stdout",
     "output_type": "stream",
     "text": [
      "Average batch time for batch 47 is 0.7587\n",
      "Current iter num: 48\n"
     ]
    },
    {
     "name": "stderr",
     "output_type": "stream",
     "text": [
      "\n",
      "100%|██████████| 20/20 [00:00<00:00, 15947.92it/s]"
     ]
    },
    {
     "name": "stdout",
     "output_type": "stream",
     "text": [
      "Average batch time for batch 48 is 0.7627\n",
      "Current iter num: 49\n"
     ]
    },
    {
     "name": "stderr",
     "output_type": "stream",
     "text": [
      "\n",
      "100%|██████████| 20/20 [00:00<00:00, 10804.49it/s]"
     ]
    },
    {
     "name": "stdout",
     "output_type": "stream",
     "text": [
      "Average batch time for batch 49 is 0.7716\n",
      "Current iter num: 50\n"
     ]
    },
    {
     "name": "stderr",
     "output_type": "stream",
     "text": [
      "\n",
      "100%|██████████| 20/20 [00:00<00:00, 27086.24it/s]"
     ]
    },
    {
     "name": "stdout",
     "output_type": "stream",
     "text": [
      "Average batch time for batch 50 is 0.7706\n",
      "Current iter num: 51\n"
     ]
    },
    {
     "name": "stderr",
     "output_type": "stream",
     "text": [
      "\n",
      "100%|██████████| 20/20 [00:00<00:00, 35439.83it/s]"
     ]
    },
    {
     "name": "stdout",
     "output_type": "stream",
     "text": [
      "Average batch time for batch 51 is 0.779\n",
      "Current iter num: 52\n"
     ]
    },
    {
     "name": "stderr",
     "output_type": "stream",
     "text": [
      "\n",
      "100%|██████████| 20/20 [00:00<00:00, 11430.18it/s]\n",
      "100%|██████████| 20/20 [00:00<00:00, 9900.40it/s]"
     ]
    },
    {
     "name": "stdout",
     "output_type": "stream",
     "text": [
      "Average batch time for batch 52 is 0.7795\n",
      "Current iter num: 53\n",
      "Average batch time for batch 53 is 0.7684\n",
      "Current iter num: 54\n"
     ]
    },
    {
     "name": "stderr",
     "output_type": "stream",
     "text": [
      "\n",
      "100%|██████████| 20/20 [00:00<00:00, 6141.00it/s]"
     ]
    },
    {
     "name": "stdout",
     "output_type": "stream",
     "text": [
      "Average batch time for batch 54 is 0.762\n",
      "Current iter num: 55\n"
     ]
    },
    {
     "name": "stderr",
     "output_type": "stream",
     "text": [
      "\n",
      "100%|██████████| 20/20 [00:00<00:00, 7819.36it/s]"
     ]
    },
    {
     "name": "stdout",
     "output_type": "stream",
     "text": [
      "Average batch time for batch 55 is 0.7521\n",
      "Current iter num: 56\n"
     ]
    },
    {
     "name": "stderr",
     "output_type": "stream",
     "text": [
      "\n",
      "100%|██████████| 20/20 [00:00<00:00, 6461.72it/s]"
     ]
    },
    {
     "name": "stdout",
     "output_type": "stream",
     "text": [
      "Average batch time for batch 56 is 0.7502\n",
      "Current iter num: 57\n"
     ]
    },
    {
     "name": "stderr",
     "output_type": "stream",
     "text": [
      "\n",
      "100%|██████████| 20/20 [00:00<00:00, 14210.75it/s]"
     ]
    },
    {
     "name": "stdout",
     "output_type": "stream",
     "text": [
      "Average batch time for batch 57 is 0.7427\n",
      "Current iter num: 58\n"
     ]
    },
    {
     "name": "stderr",
     "output_type": "stream",
     "text": [
      "\n",
      "100%|██████████| 20/20 [00:00<00:00, 6243.38it/s]"
     ]
    },
    {
     "name": "stdout",
     "output_type": "stream",
     "text": [
      "Average batch time for batch 58 is 0.7558\n",
      "Current iter num: 59\n"
     ]
    },
    {
     "name": "stderr",
     "output_type": "stream",
     "text": [
      "\n",
      "100%|██████████| 20/20 [00:00<00:00, 4597.00it/s]"
     ]
    },
    {
     "name": "stdout",
     "output_type": "stream",
     "text": [
      "Average batch time for batch 59 is 0.7588\n",
      "Current iter num: 60\n"
     ]
    },
    {
     "name": "stderr",
     "output_type": "stream",
     "text": [
      "\n",
      "100%|██████████| 20/20 [00:00<00:00, 6042.79it/s]"
     ]
    },
    {
     "name": "stdout",
     "output_type": "stream",
     "text": [
      "Average batch time for batch 60 is 0.7661\n",
      "Current iter num: 61\n"
     ]
    },
    {
     "name": "stderr",
     "output_type": "stream",
     "text": [
      "\n",
      "100%|██████████| 20/20 [00:00<00:00, 5375.25it/s]"
     ]
    },
    {
     "name": "stdout",
     "output_type": "stream",
     "text": [
      "Average batch time for batch 61 is 0.7773\n",
      "Current iter num: 62\n"
     ]
    },
    {
     "name": "stderr",
     "output_type": "stream",
     "text": [
      "\n",
      "100%|██████████| 20/20 [00:00<00:00, 6563.34it/s]"
     ]
    },
    {
     "name": "stdout",
     "output_type": "stream",
     "text": [
      "Average batch time for batch 62 is 0.7801\n",
      "Current iter num: 63\n"
     ]
    },
    {
     "name": "stderr",
     "output_type": "stream",
     "text": [
      "\n",
      "100%|██████████| 20/20 [00:00<00:00, 7786.70it/s]"
     ]
    },
    {
     "name": "stdout",
     "output_type": "stream",
     "text": [
      "Average batch time for batch 63 is 0.7728\n",
      "Current iter num: 64\n"
     ]
    },
    {
     "name": "stderr",
     "output_type": "stream",
     "text": [
      "\n",
      "100%|██████████| 20/20 [00:00<00:00, 13195.86it/s]"
     ]
    },
    {
     "name": "stdout",
     "output_type": "stream",
     "text": [
      "Average batch time for batch 64 is 0.7692\n",
      "Current iter num: 65\n"
     ]
    },
    {
     "name": "stderr",
     "output_type": "stream",
     "text": [
      "\n",
      "100%|██████████| 20/20 [00:00<00:00, 17832.93it/s]"
     ]
    },
    {
     "name": "stdout",
     "output_type": "stream",
     "text": [
      "Average batch time for batch 65 is 0.7626\n",
      "Current iter num: 66\n"
     ]
    },
    {
     "name": "stderr",
     "output_type": "stream",
     "text": [
      "\n",
      "100%|██████████| 20/20 [00:00<00:00, 21061.03it/s]"
     ]
    },
    {
     "name": "stdout",
     "output_type": "stream",
     "text": [
      "Average batch time for batch 66 is 0.7595\n",
      "Current iter num: 67\n"
     ]
    },
    {
     "name": "stderr",
     "output_type": "stream",
     "text": [
      "\n",
      "100%|██████████| 20/20 [00:00<00:00, 13774.40it/s]"
     ]
    },
    {
     "name": "stdout",
     "output_type": "stream",
     "text": [
      "Average batch time for batch 67 is 0.7532\n",
      "Current iter num: 68\n"
     ]
    },
    {
     "name": "stderr",
     "output_type": "stream",
     "text": [
      "\n",
      "100%|██████████| 20/20 [00:00<00:00, 20570.40it/s]"
     ]
    },
    {
     "name": "stdout",
     "output_type": "stream",
     "text": [
      "Average batch time for batch 68 is 0.7563\n",
      "Current iter num: 69\n"
     ]
    },
    {
     "name": "stderr",
     "output_type": "stream",
     "text": [
      "\n",
      "100%|██████████| 20/20 [00:00<00:00, 5983.32it/s]"
     ]
    },
    {
     "name": "stdout",
     "output_type": "stream",
     "text": [
      "Average batch time for batch 69 is 0.7697\n",
      "Current iter num: 70\n"
     ]
    },
    {
     "name": "stderr",
     "output_type": "stream",
     "text": [
      "\n",
      "100%|██████████| 20/20 [00:00<00:00, 10307.95it/s]"
     ]
    },
    {
     "name": "stdout",
     "output_type": "stream",
     "text": [
      "Average batch time for batch 70 is 0.7798\n",
      "Current iter num: 71\n"
     ]
    },
    {
     "name": "stderr",
     "output_type": "stream",
     "text": [
      "\n",
      "100%|██████████| 20/20 [00:00<00:00, 7332.70it/s]"
     ]
    },
    {
     "name": "stdout",
     "output_type": "stream",
     "text": [
      "Average batch time for batch 71 is 0.7818\n",
      "Current iter num: 72\n"
     ]
    },
    {
     "name": "stderr",
     "output_type": "stream",
     "text": [
      "\n",
      "100%|██████████| 20/20 [00:00<00:00, 6930.44it/s]"
     ]
    },
    {
     "name": "stdout",
     "output_type": "stream",
     "text": [
      "Average batch time for batch 72 is 0.781\n",
      "Current iter num: 73\n"
     ]
    },
    {
     "name": "stderr",
     "output_type": "stream",
     "text": [
      "\n",
      "100%|██████████| 20/20 [00:00<00:00, 8413.85it/s]"
     ]
    },
    {
     "name": "stdout",
     "output_type": "stream",
     "text": [
      "Average batch time for batch 73 is 0.776\n",
      "Current iter num: 74\n"
     ]
    },
    {
     "name": "stderr",
     "output_type": "stream",
     "text": [
      "\n",
      "100%|██████████| 20/20 [00:00<00:00, 7019.17it/s]"
     ]
    },
    {
     "name": "stdout",
     "output_type": "stream",
     "text": [
      "Average batch time for batch 74 is 0.7696\n",
      "Current iter num: 75\n"
     ]
    },
    {
     "name": "stderr",
     "output_type": "stream",
     "text": [
      "\n",
      "100%|██████████| 20/20 [00:00<00:00, 5097.29it/s]"
     ]
    },
    {
     "name": "stdout",
     "output_type": "stream",
     "text": [
      "Average batch time for batch 75 is 0.7644\n",
      "Current iter num: 76\n"
     ]
    },
    {
     "name": "stderr",
     "output_type": "stream",
     "text": [
      "\n",
      "100%|██████████| 20/20 [00:00<00:00, 6939.62it/s]"
     ]
    },
    {
     "name": "stdout",
     "output_type": "stream",
     "text": [
      "Average batch time for batch 76 is 0.7587\n",
      "Current iter num: 77\n"
     ]
    },
    {
     "name": "stderr",
     "output_type": "stream",
     "text": [
      "\n",
      "100%|██████████| 20/20 [00:00<00:00, 7752.87it/s]"
     ]
    },
    {
     "name": "stdout",
     "output_type": "stream",
     "text": [
      "Average batch time for batch 77 is 0.7558\n",
      "Current iter num: 78\n"
     ]
    },
    {
     "name": "stderr",
     "output_type": "stream",
     "text": [
      "\n",
      "100%|██████████| 20/20 [00:00<00:00, 8018.17it/s]"
     ]
    },
    {
     "name": "stdout",
     "output_type": "stream",
     "text": [
      "Average batch time for batch 78 is 0.7517\n",
      "Current iter num: 79\n"
     ]
    },
    {
     "name": "stderr",
     "output_type": "stream",
     "text": [
      "\n",
      "100%|██████████| 20/20 [00:00<00:00, 10107.97it/s]"
     ]
    },
    {
     "name": "stdout",
     "output_type": "stream",
     "text": [
      "Average batch time for batch 79 is 0.7513\n",
      "Current iter num: 80\n"
     ]
    },
    {
     "name": "stderr",
     "output_type": "stream",
     "text": [
      "\n",
      "100%|██████████| 20/20 [00:00<00:00, 4965.73it/s]"
     ]
    },
    {
     "name": "stdout",
     "output_type": "stream",
     "text": [
      "Average batch time for batch 80 is 0.7509\n",
      "Current iter num: 81\n"
     ]
    },
    {
     "name": "stderr",
     "output_type": "stream",
     "text": [
      "\n",
      "100%|██████████| 20/20 [00:00<00:00, 7547.11it/s]"
     ]
    },
    {
     "name": "stdout",
     "output_type": "stream",
     "text": [
      "Average batch time for batch 81 is 0.7505\n",
      "Current iter num: 82\n"
     ]
    },
    {
     "name": "stderr",
     "output_type": "stream",
     "text": [
      "\n",
      "100%|██████████| 20/20 [00:00<00:00, 9422.23it/s]"
     ]
    },
    {
     "name": "stdout",
     "output_type": "stream",
     "text": [
      "Average batch time for batch 82 is 0.7501\n",
      "Current iter num: 83\n"
     ]
    },
    {
     "name": "stderr",
     "output_type": "stream",
     "text": [
      "\n",
      "100%|██████████| 20/20 [00:00<00:00, 5606.23it/s]"
     ]
    },
    {
     "name": "stdout",
     "output_type": "stream",
     "text": [
      "Average batch time for batch 83 is 0.7498\n",
      "Current iter num: 84\n"
     ]
    },
    {
     "name": "stderr",
     "output_type": "stream",
     "text": [
      "\n",
      "100%|██████████| 20/20 [00:00<00:00, 6879.29it/s]"
     ]
    },
    {
     "name": "stdout",
     "output_type": "stream",
     "text": [
      "Average batch time for batch 84 is 0.7542\n",
      "Current iter num: 85\n"
     ]
    },
    {
     "name": "stderr",
     "output_type": "stream",
     "text": [
      "\n",
      "100%|██████████| 20/20 [00:00<00:00, 7288.10it/s]"
     ]
    },
    {
     "name": "stdout",
     "output_type": "stream",
     "text": [
      "Average batch time for batch 85 is 0.7519\n",
      "Current iter num: 86\n"
     ]
    },
    {
     "name": "stderr",
     "output_type": "stream",
     "text": [
      "\n",
      "100%|██████████| 20/20 [00:00<00:00, 5834.34it/s]"
     ]
    },
    {
     "name": "stdout",
     "output_type": "stream",
     "text": [
      "Average batch time for batch 86 is 0.7508\n",
      "Current iter num: 87\n"
     ]
    },
    {
     "name": "stderr",
     "output_type": "stream",
     "text": [
      "\n",
      "100%|██████████| 20/20 [00:00<00:00, 7174.04it/s]"
     ]
    },
    {
     "name": "stdout",
     "output_type": "stream",
     "text": [
      "Average batch time for batch 87 is 0.7448\n",
      "Current iter num: 88\n"
     ]
    },
    {
     "name": "stderr",
     "output_type": "stream",
     "text": [
      "\n",
      "100%|██████████| 20/20 [00:00<00:00, 6398.63it/s]"
     ]
    },
    {
     "name": "stdout",
     "output_type": "stream",
     "text": [
      "Average batch time for batch 88 is 0.7412\n",
      "Current iter num: 89\n"
     ]
    },
    {
     "name": "stderr",
     "output_type": "stream",
     "text": [
      "\n",
      "100%|██████████| 20/20 [00:00<00:00, 9246.70it/s]"
     ]
    },
    {
     "name": "stdout",
     "output_type": "stream",
     "text": [
      "Average batch time for batch 89 is 0.7387\n",
      "Current iter num: 90\n"
     ]
    },
    {
     "name": "stderr",
     "output_type": "stream",
     "text": [
      "\n",
      "100%|██████████| 20/20 [00:00<00:00, 12183.89it/s]"
     ]
    },
    {
     "name": "stdout",
     "output_type": "stream",
     "text": [
      "Average batch time for batch 90 is 0.7346\n",
      "Current iter num: 91\n"
     ]
    },
    {
     "name": "stderr",
     "output_type": "stream",
     "text": [
      "\n",
      "100%|██████████| 20/20 [00:00<00:00, 27980.68it/s]"
     ]
    },
    {
     "name": "stdout",
     "output_type": "stream",
     "text": [
      "Average batch time for batch 91 is 0.7305\n",
      "Current iter num: 92\n"
     ]
    },
    {
     "name": "stderr",
     "output_type": "stream",
     "text": [
      "\n",
      "100%|██████████| 20/20 [00:00<00:00, 5969.69it/s]"
     ]
    },
    {
     "name": "stdout",
     "output_type": "stream",
     "text": [
      "Average batch time for batch 92 is 0.7306\n",
      "Current iter num: 93\n"
     ]
    },
    {
     "name": "stderr",
     "output_type": "stream",
     "text": [
      "\n",
      "100%|██████████| 20/20 [00:00<00:00, 12050.87it/s]"
     ]
    },
    {
     "name": "stdout",
     "output_type": "stream",
     "text": [
      "Average batch time for batch 93 is 0.733\n",
      "Current iter num: 94\n"
     ]
    },
    {
     "name": "stderr",
     "output_type": "stream",
     "text": [
      "\n",
      "100%|██████████| 20/20 [00:00<00:00, 7766.51it/s]"
     ]
    },
    {
     "name": "stdout",
     "output_type": "stream",
     "text": [
      "Average batch time for batch 94 is 0.7371\n",
      "Current iter num: 95\n"
     ]
    },
    {
     "name": "stderr",
     "output_type": "stream",
     "text": [
      "\n",
      "100%|██████████| 20/20 [00:00<00:00, 6954.57it/s]"
     ]
    },
    {
     "name": "stdout",
     "output_type": "stream",
     "text": [
      "Average batch time for batch 95 is 0.7378\n",
      "Current iter num: 96\n"
     ]
    },
    {
     "name": "stderr",
     "output_type": "stream",
     "text": [
      "\n",
      "100%|██████████| 20/20 [00:00<00:00, 21045.18it/s]"
     ]
    },
    {
     "name": "stdout",
     "output_type": "stream",
     "text": [
      "Average batch time for batch 96 is 0.7426\n",
      "Current iter num: 97\n"
     ]
    },
    {
     "name": "stderr",
     "output_type": "stream",
     "text": [
      "\n",
      "100%|██████████| 20/20 [00:00<00:00, 7847.15it/s]"
     ]
    },
    {
     "name": "stdout",
     "output_type": "stream",
     "text": [
      "Average batch time for batch 97 is 0.7448\n",
      "Current iter num: 98\n"
     ]
    },
    {
     "name": "stderr",
     "output_type": "stream",
     "text": [
      "\n",
      "100%|██████████| 20/20 [00:00<00:00, 6049.77it/s]"
     ]
    },
    {
     "name": "stdout",
     "output_type": "stream",
     "text": [
      "Average batch time for batch 98 is 0.7414\n",
      "Current iter num: 99\n"
     ]
    },
    {
     "name": "stderr",
     "output_type": "stream",
     "text": [
      "\n",
      "100%|██████████| 20/20 [00:00<00:00, 5587.19it/s]"
     ]
    },
    {
     "name": "stdout",
     "output_type": "stream",
     "text": [
      "Average batch time for batch 99 is 0.7372\n",
      "Current iter num: 100\n"
     ]
    },
    {
     "name": "stderr",
     "output_type": "stream",
     "text": [
      "\n"
     ]
    },
    {
     "name": "stdout",
     "output_type": "stream",
     "text": [
      "Average batch time for batch 100 is 0.7332\n"
     ]
    }
   ],
   "source": [
    "import json\n",
    "import time\n",
    "import numpy as np\n",
    "import requests\n",
    "from tqdm import tqdm\n",
    "\n",
    "# for testing\n",
    "import random\n",
    "\n",
    "# bulk_file = ''\n",
    "\n",
    "index_name = \"knn\"\n",
    "vector_name = \"my_vector\"\n",
    "vector_dimension = 768\n",
    "keyword_name = \"keywords\"\n",
    "\n",
    "index_part =     { \"index\": {\"_index\":index_name, \"_id\": 1 }}\n",
    "\n",
    "\n",
    "keyword_options = [\"test\",\"boston\",\"harbor\",\"tour\",\"boat\",\"atlantic\",\"sea\",\"seal\",\"whale\",\"ocean\"]\n",
    "\n",
    "id = 20030000+12700000\n",
    "time_sp = time.time()\n",
    "for _iter in range(num_batch):\n",
    "    print(\"Current iter num: {}\".format(_iter+1))\n",
    "\n",
    "    bulk_body = []\n",
    "    \n",
    "    for _ in tqdm(range(num_passage_per_batch)):\n",
    "        \n",
    "        # add index step to body\n",
    "        index_part  = { \"index\": {\"_index\":index_name, \"_id\": id }}\n",
    "        bulk_body.append(index_part)\n",
    "\n",
    "        # value part to be added to body\n",
    "        value_part = dict()\n",
    "        \n",
    "        # add knn vector step to value\n",
    "        value_part[vector_name] = embedding\n",
    "        \n",
    "        # add keyword (1-3) part to value\n",
    "        # random add keywords for testing\n",
    "        # keywords is always an array [] of keyword objects even if length 1\n",
    "        keywords = []\n",
    "        num_keywords = random.randint(1,3)\n",
    "        for n in range(num_keywords):\n",
    "            keywords.append(random.choice(keyword_options))\n",
    "            \n",
    "        value_part[keyword_name] = keywords\n",
    "        # add value to body\n",
    "        bulk_body.append(value_part)\n",
    "\n",
    "        # increment/generate values\n",
    "        embedding= np.random.rand(vector_dimension).tolist()\n",
    "        id += 1\n",
    "    \n",
    "    # the body is now 2 elements, the index point, then a value to add to it\n",
    "    # { \"index\": {\"_index\":index_name, \"_id\": 2 }},\n",
    "    # { vector_name: embedding, \"price\":1,keyword_name: \"test2\"}\n",
    "    \n",
    "    \n",
    "    es.bulk(bulk_body)#,index=index_name)\n",
    "    avg_batch_time = round((time.time() - time_sp) / (1 + _iter),4)\n",
    "    print(\"Average batch time for batch {} is {}\".format(1+_iter,avg_batch_time))\n"
   ]
  },
  {
   "cell_type": "markdown",
   "metadata": {},
   "source": [
    "#### Query based on fuzzy match keyword\n",
    "\n",
    "\n"
   ]
  },
  {
   "cell_type": "code",
   "execution_count": 156,
   "metadata": {},
   "outputs": [
    {
     "name": "stdout",
     "output_type": "stream",
     "text": [
      "['boat', 'boston', 'harbor']\n",
      "['boston', 'atlantic']\n",
      "['boston']\n",
      "['harbor', 'boston']\n",
      "['boston']\n",
      "['boston', 'test']\n",
      "['boston', 'boston']\n",
      "['seal', 'boston']\n",
      "['seal', 'boston', 'sea']\n",
      "['atlantic', 'boston', 'tour']\n",
      "['boston', 'boston']\n",
      "['sea', 'boston', 'harbor']\n",
      "['boston', 'atlantic', 'test']\n",
      "['boston', 'ocean']\n",
      "['boston', 'ocean', 'tour']\n",
      "['boston', 'test']\n",
      "['boston']\n",
      "['boat', 'boston', 'test']\n",
      "['seal', 'whale', 'boston']\n",
      "['boston', 'boat']\n",
      "['sea', 'boston', 'boat']\n",
      "['tour', 'boston']\n",
      "['boston', 'sea']\n",
      "['boston']\n",
      "['ocean', 'atlantic', 'boston']\n",
      "['boston']\n",
      "['seal', 'ocean', 'boston']\n",
      "['boston', 'boat']\n",
      "['boston']\n",
      "['boston', 'seal']\n",
      "['seal', 'harbor', 'boston']\n",
      "['boston', 'sea', 'harbor']\n",
      "['sea', 'boston', 'harbor']\n",
      "['boston', 'sea', 'atlantic']\n",
      "['boat', 'boat', 'boston']\n",
      "['harbor', 'boston', 'tour']\n",
      "['boston', 'harbor', 'seal']\n",
      "['whale', 'boston', 'harbor']\n",
      "['ocean', 'boston', 'boston']\n",
      "['boston', 'boston']\n",
      "['boston']\n",
      "['boston', 'harbor', 'whale']\n",
      "['tour', 'boston', 'harbor']\n",
      "['sea', 'whale', 'boston']\n",
      "['seal', 'boston']\n",
      "['harbor', 'boston']\n",
      "['seal', 'boston']\n",
      "['tour', 'harbor', 'boston']\n",
      "['sea', 'boston']\n",
      "['boston', 'ocean']\n",
      "['boston', 'tour', 'boat']\n",
      "['boston', 'boston']\n",
      "['boston', 'tour', 'boston']\n",
      "['boat', 'ocean', 'boston']\n",
      "['atlantic', 'boston', 'tour']\n",
      "['test', 'seal', 'boston']\n",
      "['ocean', 'boston']\n",
      "['harbor', 'ocean', 'boston']\n",
      "['boston']\n",
      "['boston', 'whale']\n",
      "['atlantic', 'boston']\n",
      "['seal', 'boston']\n",
      "['boston']\n",
      "['test', 'ocean', 'boston']\n",
      "['boston', 'whale', 'whale']\n",
      "['boston', 'test']\n",
      "['seal', 'boston']\n",
      "['test', 'harbor', 'boston']\n",
      "['boston', 'whale', 'boston']\n",
      "['boat', 'boat', 'boston']\n",
      "['ocean', 'boston', 'boat']\n",
      "['harbor', 'boston', 'ocean']\n",
      "['boston', 'whale']\n",
      "['test', 'boston', 'whale']\n",
      "['whale', 'boat', 'boston']\n",
      "['boston', 'boston', 'test']\n",
      "['boston', 'ocean', 'atlantic']\n",
      "['boston', 'boat', 'harbor']\n",
      "['ocean', 'boston', 'sea']\n",
      "['test', 'boston']\n",
      "['ocean', 'boat', 'boston']\n",
      "['boston', 'boston']\n",
      "['harbor', 'boston', 'test']\n",
      "['harbor', 'boston', 'ocean']\n",
      "['boston']\n",
      "['boston', 'atlantic', 'seal']\n",
      "['tour', 'boston', 'sea']\n",
      "['boston']\n",
      "['seal', 'boston']\n",
      "['boston', 'seal', 'atlantic']\n",
      "['boston', 'boston', 'whale']\n",
      "['boat', 'boston']\n",
      "['boston', 'whale']\n",
      "['boston']\n",
      "['boston']\n",
      "['boat', 'atlantic', 'boston']\n",
      "['ocean', 'harbor', 'boston']\n",
      "['boston']\n",
      "['harbor', 'sea', 'boston']\n",
      "['test', 'boston']\n",
      "['boston', 'seal']\n",
      "['boston', 'whale', 'test']\n",
      "['boston', 'tour']\n",
      "['test', 'boston']\n",
      "['boston']\n",
      "['boston']\n",
      "['seal', 'seal', 'boston']\n",
      "['boston', 'test', 'boston']\n",
      "['seal', 'whale', 'boston']\n",
      "['boston']\n",
      "['seal', 'boston', 'boston']\n",
      "['boston', 'ocean', 'tour']\n",
      "['harbor', 'boston', 'tour']\n",
      "['boston', 'boston']\n",
      "['boston']\n",
      "['boston', 'atlantic']\n",
      "['harbor', 'boston']\n",
      "['tour', 'boston']\n",
      "['seal', 'boston']\n",
      "['ocean', 'whale', 'boston']\n",
      "['test', 'boston', 'atlantic']\n",
      "['harbor', 'boston']\n",
      "['boston']\n",
      "['boston']\n",
      "['ocean', 'boston']\n",
      "['test', 'atlantic', 'boston']\n",
      "['sea', 'boston', 'test']\n",
      "['tour', 'boston']\n",
      "['boston', 'tour', 'whale']\n",
      "['boston', 'harbor', 'boat']\n",
      "['harbor', 'boston', 'boston']\n",
      "['boston']\n",
      "['sea', 'boston']\n",
      "['whale', 'boston', 'boat']\n",
      "['boston', 'sea', 'boat']\n",
      "['boston']\n",
      "['boston']\n",
      "['boston', 'whale', 'sea']\n",
      "['harbor', 'harbor', 'boston']\n",
      "['whale', 'boston']\n",
      "['test', 'boston', 'whale']\n",
      "['tour', 'seal', 'boston']\n",
      "['harbor', 'boston', 'boston']\n",
      "['harbor', 'boston', 'sea']\n",
      "['boston', 'boston']\n",
      "['atlantic', 'boston']\n",
      "['boston', 'sea', 'harbor']\n",
      "['boston']\n",
      "['boston', 'boat']\n",
      "['sea', 'whale', 'boston']\n",
      "['boston', 'seal', 'whale']\n",
      "['boston', 'tour', 'harbor']\n",
      "['atlantic', 'atlantic', 'boston']\n",
      "['boston', 'boston']\n",
      "['boston', 'tour', 'atlantic']\n",
      "['whale', 'harbor', 'boston']\n",
      "['seal', 'boston', 'tour']\n",
      "['boston', 'test']\n",
      "['atlantic', 'harbor', 'boston']\n",
      "['boston', 'sea']\n",
      "['boston', 'sea', 'boston']\n",
      "['ocean', 'boston', 'harbor']\n",
      "['harbor', 'sea', 'boston']\n",
      "['boston', 'whale']\n",
      "['boston', 'seal', 'tour']\n",
      "['atlantic', 'boston']\n",
      "['ocean', 'whale', 'boston']\n",
      "['ocean', 'boston', 'ocean']\n",
      "['whale', 'boat', 'boston']\n",
      "['boston', 'boston']\n",
      "['boston']\n",
      "['test', 'boston', 'atlantic']\n",
      "['boston', 'boat']\n",
      "['atlantic', 'boston', 'test']\n",
      "['harbor', 'test', 'boston']\n",
      "['tour', 'boston', 'harbor']\n",
      "['boston', 'tour']\n",
      "['boston', 'tour', 'test']\n",
      "['ocean', 'boston', 'ocean']\n",
      "['tour', 'boston', 'boston']\n",
      "['boston', 'boston']\n",
      "['ocean', 'boston']\n",
      "['atlantic', 'boston', 'sea']\n",
      "['boston', 'ocean', 'test']\n",
      "['boat', 'test', 'boston']\n",
      "['boston', 'seal', 'tour']\n",
      "['test', 'sea', 'boston']\n",
      "['boston']\n",
      "['boat', 'atlantic', 'boston']\n",
      "['boston']\n",
      "['boat', 'boston', 'atlantic']\n",
      "['harbor', 'boston', 'harbor']\n",
      "['tour', 'boston', 'harbor']\n",
      "['boston', 'sea', 'sea']\n",
      "['boston']\n",
      "['boston', 'boston']\n",
      "['atlantic', 'boston', 'test']\n",
      "['boat', 'boston', 'ocean']\n",
      "['ocean', 'harbor', 'boston']\n",
      "['boston', 'ocean', 'boston']\n",
      "['atlantic', 'boston']\n",
      "['atlantic', 'boat', 'boston']\n",
      "['test', 'whale', 'boston']\n",
      "['boston', 'tour']\n",
      "['boston']\n",
      "['sea', 'boston']\n",
      "['sea', 'seal', 'boston']\n",
      "['tour', 'boston']\n",
      "['boston', 'boat']\n",
      "['boston']\n",
      "['boston']\n",
      "['tour', 'harbor', 'boston']\n",
      "['test', 'boston']\n",
      "['boston']\n",
      "['boston', 'atlantic']\n",
      "['test', 'boston', 'seal']\n",
      "['boston', 'ocean', 'sea']\n",
      "['tour', 'boston', 'tour']\n",
      "['test', 'boston', 'atlantic']\n",
      "['atlantic', 'boston', 'tour']\n",
      "['ocean', 'boston', 'sea']\n",
      "['test', 'boston', 'harbor']\n",
      "['whale', 'boston', 'seal']\n",
      "['boston', 'boat', 'test']\n",
      "['boston', 'tour']\n",
      "['boston', 'sea', 'ocean']\n",
      "['sea', 'boston']\n",
      "['ocean', 'boston']\n",
      "['atlantic', 'boston', 'test']\n",
      "['boston']\n",
      "['tour', 'sea', 'boston']\n",
      "['boston', 'boston']\n",
      "['atlantic', 'boston']\n",
      "['atlantic', 'tour', 'boston']\n",
      "['whale', 'boston']\n",
      "['tour', 'tour', 'boston']\n",
      "['boston']\n",
      "['whale', 'harbor', 'boston']\n",
      "['atlantic', 'boston']\n",
      "['boston']\n",
      "['test', 'boston']\n",
      "['boston']\n",
      "['boston', 'test', 'harbor']\n",
      "['boston', 'ocean', 'boston']\n",
      "['boston']\n",
      "['boston', 'atlantic']\n",
      "['whale', 'atlantic', 'boston']\n",
      "['boston', 'boston']\n",
      "['ocean', 'boston', 'harbor']\n",
      "['boston', 'tour']\n",
      "['boat', 'boston', 'seal']\n",
      "['harbor', 'sea', 'boston']\n",
      "['boston']\n",
      "['boston', 'harbor']\n",
      "['harbor', 'test', 'boston']\n",
      "['boston', 'whale', 'test']\n",
      "['boston', 'seal']\n",
      "['boston', 'tour']\n",
      "['test', 'test', 'boston']\n",
      "['boston']\n",
      "['boston', 'tour', 'boston']\n",
      "['whale', 'boston']\n",
      "['boston']\n",
      "['whale', 'tour', 'boston']\n",
      "['test', 'boston', 'sea']\n",
      "['boat', 'boston', 'sea']\n",
      "['boston', 'tour', 'boat']\n",
      "['ocean', 'boston', 'sea']\n",
      "['boston', 'test', 'test']\n",
      "['sea', 'boston', 'tour']\n",
      "['boston', 'boston', 'harbor']\n",
      "['test', 'boston', 'boat']\n",
      "['whale', 'boston']\n",
      "['boston', 'whale', 'test']\n",
      "['seal', 'boston']\n",
      "['atlantic', 'boston']\n",
      "['boat', 'boston']\n",
      "['boston', 'tour', 'ocean']\n",
      "['seal', 'boston']\n",
      "['boston']\n",
      "['seal', 'boston', 'seal']\n",
      "['boston', 'seal']\n",
      "['boston', 'boat']\n",
      "['ocean', 'boston', 'sea']\n",
      "['seal', 'boston']\n",
      "['sea', 'boston']\n",
      "['boston']\n",
      "['boston', 'ocean', 'boston']\n",
      "['boston', 'test', 'test']\n",
      "['boston', 'tour', 'boat']\n",
      "['boston', 'seal']\n",
      "['boston', 'ocean']\n",
      "['boston', 'tour', 'test']\n",
      "['boston', 'boston']\n",
      "['harbor', 'seal', 'boston']\n",
      "['whale', 'boston']\n",
      "['sea', 'boston']\n",
      "['atlantic', 'boston']\n",
      "['boston']\n",
      "['boston', 'whale']\n",
      "['boston']\n",
      "['boston', 'seal']\n",
      "['atlantic', 'whale', 'boston']\n",
      "['boston', 'seal']\n",
      "['boston', 'tour', 'harbor']\n",
      "['tour', 'boston', 'atlantic']\n",
      "['boston']\n",
      "['sea', 'boston', 'test']\n",
      "['boston', 'ocean', 'harbor']\n",
      "['tour', 'boston', 'boston']\n",
      "['boston']\n",
      "['boat', 'ocean', 'boston']\n",
      "['boston', 'sea']\n",
      "['seal', 'tour', 'boston']\n",
      "['boston', 'harbor', 'sea']\n",
      "['tour', 'boston']\n",
      "['whale', 'boston']\n",
      "['boston', 'boston', 'sea']\n",
      "['boston', 'harbor', 'boat']\n",
      "['boston', 'harbor']\n",
      "['test', 'boston', 'boston']\n",
      "['boston', 'test', 'test']\n",
      "['boston', 'atlantic', 'seal']\n",
      "['boston', 'boat']\n",
      "['boston', 'atlantic']\n",
      "['ocean', 'boat', 'boston']\n",
      "['boston', 'boat', 'sea']\n",
      "['boston', 'harbor']\n",
      "['boston', 'boston']\n",
      "['boston', 'tour']\n",
      "['boston', 'sea', 'atlantic']\n",
      "['boston', 'atlantic']\n",
      "['boston', 'boston', 'tour']\n",
      "['atlantic', 'atlantic', 'boston']\n",
      "['boston', 'test']\n",
      "['atlantic', 'harbor', 'boston']\n",
      "['boston', 'ocean']\n",
      "['boston', 'seal', 'whale']\n",
      "['whale', 'boston', 'sea']\n",
      "['boston']\n",
      "['harbor', 'boston']\n",
      "['boston']\n",
      "['sea', 'ocean', 'boston']\n",
      "['boston', 'whale', 'boston']\n",
      "['harbor', 'boston']\n",
      "['boston', 'boat', 'boston']\n",
      "['boston', 'boston']\n",
      "['ocean', 'boston']\n",
      "['boat', 'harbor', 'boston']\n",
      "['boston']\n",
      "['boston', 'seal']\n",
      "['sea', 'boston']\n",
      "['whale', 'seal', 'boston']\n",
      "['harbor', 'boston', 'harbor']\n",
      "['boston']\n",
      "['harbor', 'boston']\n",
      "['tour', 'boston']\n",
      "['boston', 'harbor']\n",
      "['whale', 'boston']\n",
      "['ocean', 'boston', 'atlantic']\n",
      "['sea', 'boston', 'ocean']\n",
      "['tour', 'boston']\n",
      "['whale', 'boston', 'sea']\n",
      "['tour', 'atlantic', 'boston']\n",
      "['boston']\n",
      "['boston']\n",
      "['harbor', 'boston']\n",
      "['boston']\n",
      "['boston', 'test']\n",
      "369\n"
     ]
    }
   ],
   "source": [
    "### search the to see results are uploaded\n",
    "\n",
    "\n",
    "max_results = 1000\n",
    "search_query = \"bosto\"\n",
    "\n",
    "query =  {\n",
    "    \"size\": max_results,\n",
    "    \"query\": {\n",
    "        \"fuzzy\" : {\n",
    "            \"keywords\" : search_query\n",
    "        }\n",
    "    }\n",
    "}\n",
    "# `fuzzy` can be changed to `match` for exact match search\n",
    "\n",
    "r = es.search(index='knn',body=query)\n",
    "# r is result json\n",
    "\n",
    "hits = r[\"hits\"][\"hits\"]\n",
    "\n",
    "# print all keywords found\n",
    "for hit in hits:\n",
    "    keywords = hit[\"_source\"][\"keywords\"]\n",
    "    # hit[_source][my_vector] is the vector with those keywords\n",
    "    print(keywords)\n",
    "\n",
    "print(len(hits))\n"
   ]
  },
  {
   "cell_type": "markdown",
   "metadata": {},
   "source": [
    "#### Query based on query embedding"
   ]
  },
  {
   "cell_type": "code",
   "execution_count": 139,
   "metadata": {
    "ExecuteTime": {
     "end_time": "2020-04-03T18:43:53.689661Z",
     "start_time": "2020-04-03T18:43:53.682849Z"
    }
   },
   "outputs": [],
   "source": [
    "import numpy as np\n",
    "\n",
    "NUM_OUTPUT = 1000\n",
    "QUERY_EMBEDDING = np.random.rand(1024).tolist()\n",
    "\n",
    "es_query = {\n",
    "  \"size\": NUM_OUTPUT,\n",
    "  \"query\": {\n",
    "    \"knn\": {\n",
    "      \"my_vector1\": {\n",
    "        \"vector\": QUERY_EMBEDDING,\n",
    "        \"k\": NUM_OUTPUT\n",
    "      }\n",
    "    }\n",
    "  }\n",
    "}\n",
    "\n",
    "\n",
    "\n",
    "\n",
    "\n",
    "es_query = {\n",
    "  \"size\": NUM_OUTPUT,\n",
    "  \"query\": {\n",
    "    \"knn\": {\n",
    "      \"my_vector1\": {\n",
    "        \"vector\": QUERY_EMBEDDING,\n",
    "        \"k\": NUM_OUTPUT\n",
    "      }\n",
    "    }\n",
    "  }\n",
    "}"
   ]
  },
  {
   "cell_type": "code",
   "execution_count": 140,
   "metadata": {
    "ExecuteTime": {
     "end_time": "2020-04-03T18:43:53.973267Z",
     "start_time": "2020-04-03T18:43:53.966873Z"
    }
   },
   "outputs": [
    {
     "name": "stdout",
     "output_type": "stream",
     "text": [
      "https://search-aliontest1-vvw7pstcvgijdcmwjl65n2dxpa.us-east-1.es.amazonaws.com/knn/_search\n"
     ]
    }
   ],
   "source": [
    "import requests\n",
    "\n",
    "#host = \"https://search-alion-test3-cbeplr3jqsbbwzbqbeuryjstu4.us-east-1.es.amazonaws.com/\"\n",
    "\n",
    "endpoint = \"knn/_search\"\n",
    "\n",
    "url = \"https://\"+host+\"/\" + endpoint\n",
    "print(url)"
   ]
  },
  {
   "cell_type": "code",
   "execution_count": 141,
   "metadata": {
    "ExecuteTime": {
     "end_time": "2020-04-03T22:01:09.619847Z",
     "start_time": "2020-04-03T22:00:44.888881Z"
    },
    "scrolled": true
   },
   "outputs": [
    {
     "name": "stdout",
     "output_type": "stream",
     "text": [
      "{\"took\":1,\"timed_out\":false,\"_shards\":{\"total\":1,\"successful\":1,\"skipped\":0,\"failed\":0},\"hits\":{\"total\":{\"value\":0,\"relation\":\"eq\"},\"max_score\":null,\"hits\":[]}}\n"
     ]
    }
   ],
   "source": [
    "r = requests.get(url, json=es_query)\n",
    "\n",
    "print(r.text)"
   ]
  },
  {
   "cell_type": "code",
   "execution_count": 142,
   "metadata": {
    "ExecuteTime": {
     "end_time": "2020-04-03T21:57:08.547387Z",
     "start_time": "2020-04-03T21:57:08.538079Z"
    }
   },
   "outputs": [
    {
     "data": {
      "text/plain": [
       "200"
      ]
     },
     "execution_count": 142,
     "metadata": {},
     "output_type": "execute_result"
    }
   ],
   "source": [
    "r.status_code"
   ]
  },
  {
   "cell_type": "code",
   "execution_count": 143,
   "metadata": {
    "ExecuteTime": {
     "end_time": "2020-04-03T18:43:34.763199Z",
     "start_time": "2020-04-03T18:43:34.393880Z"
    }
   },
   "outputs": [],
   "source": [
    "import ast \n",
    "import json\n",
    "\n",
    "# result = ast.literal_eval(r.text)\n",
    "result = json.loads(r.text)"
   ]
  },
  {
   "cell_type": "code",
   "execution_count": 144,
   "metadata": {
    "ExecuteTime": {
     "end_time": "2020-04-03T18:40:22.447286Z",
     "start_time": "2020-04-03T18:40:22.430215Z"
    },
    "scrolled": false
   },
   "outputs": [
    {
     "data": {
      "text/plain": [
       "dict_keys(['took', 'timed_out', '_shards', 'hits'])"
      ]
     },
     "execution_count": 144,
     "metadata": {},
     "output_type": "execute_result"
    }
   ],
   "source": [
    "result.keys()"
   ]
  },
  {
   "cell_type": "code",
   "execution_count": 145,
   "metadata": {
    "ExecuteTime": {
     "end_time": "2020-04-03T18:40:23.461514Z",
     "start_time": "2020-04-03T18:40:23.439251Z"
    }
   },
   "outputs": [
    {
     "data": {
      "text/plain": [
       "dict_keys(['total', 'max_score', 'hits'])"
      ]
     },
     "execution_count": 145,
     "metadata": {},
     "output_type": "execute_result"
    }
   ],
   "source": [
    "result['hits'].keys()"
   ]
  },
  {
   "cell_type": "code",
   "execution_count": 146,
   "metadata": {
    "ExecuteTime": {
     "end_time": "2020-04-03T18:40:30.543697Z",
     "start_time": "2020-04-03T18:40:30.540904Z"
    }
   },
   "outputs": [],
   "source": [
    "# result_id['_id']"
   ]
  },
  {
   "cell_type": "code",
   "execution_count": 147,
   "metadata": {
    "ExecuteTime": {
     "end_time": "2020-04-03T18:40:59.445807Z",
     "start_time": "2020-04-03T18:40:59.433291Z"
    }
   },
   "outputs": [
    {
     "data": {
      "text/plain": [
       "0"
      ]
     },
     "execution_count": 147,
     "metadata": {},
     "output_type": "execute_result"
    }
   ],
   "source": [
    "len(result['hits']['hits'])"
   ]
  },
  {
   "cell_type": "code",
   "execution_count": 148,
   "metadata": {
    "ExecuteTime": {
     "end_time": "2020-04-03T18:43:36.546625Z",
     "start_time": "2020-04-03T18:43:36.526428Z"
    },
    "scrolled": false
   },
   "outputs": [
    {
     "ename": "ModuleNotFoundError",
     "evalue": "No module named 'sklearn'",
     "output_type": "error",
     "traceback": [
      "\u001b[0;31m---------------------------------------------------------------------------\u001b[0m",
      "\u001b[0;31mModuleNotFoundError\u001b[0m                       Traceback (most recent call last)",
      "\u001b[0;32m<ipython-input-148-123dfb77a77b>\u001b[0m in \u001b[0;36m<module>\u001b[0;34m\u001b[0m\n\u001b[0;32m----> 1\u001b[0;31m \u001b[0;32mfrom\u001b[0m \u001b[0msklearn\u001b[0m\u001b[0;34m.\u001b[0m\u001b[0mmetrics\u001b[0m\u001b[0;34m.\u001b[0m\u001b[0mpairwise\u001b[0m \u001b[0;32mimport\u001b[0m \u001b[0mcosine_similarity\u001b[0m\u001b[0;34m\u001b[0m\u001b[0;34m\u001b[0m\u001b[0m\n\u001b[0m\u001b[1;32m      2\u001b[0m \u001b[0;34m\u001b[0m\u001b[0m\n\u001b[1;32m      3\u001b[0m \u001b[0;32mfor\u001b[0m \u001b[0m_idx\u001b[0m \u001b[0;32min\u001b[0m \u001b[0mrange\u001b[0m\u001b[0;34m(\u001b[0m\u001b[0;36m10\u001b[0m\u001b[0;34m)\u001b[0m\u001b[0;34m:\u001b[0m\u001b[0;34m\u001b[0m\u001b[0;34m\u001b[0m\u001b[0m\n\u001b[1;32m      4\u001b[0m     \u001b[0mresult_id\u001b[0m \u001b[0;34m=\u001b[0m \u001b[0mresult\u001b[0m\u001b[0;34m[\u001b[0m\u001b[0;34m'hits'\u001b[0m\u001b[0;34m]\u001b[0m\u001b[0;34m[\u001b[0m\u001b[0;34m'hits'\u001b[0m\u001b[0;34m]\u001b[0m\u001b[0;34m[\u001b[0m\u001b[0m_idx\u001b[0m\u001b[0;34m]\u001b[0m\u001b[0;34m[\u001b[0m\u001b[0;34m'_id'\u001b[0m\u001b[0;34m]\u001b[0m\u001b[0;34m\u001b[0m\u001b[0;34m\u001b[0m\u001b[0m\n\u001b[1;32m      5\u001b[0m     \u001b[0mresult_embedding\u001b[0m \u001b[0;34m=\u001b[0m \u001b[0mresult\u001b[0m\u001b[0;34m[\u001b[0m\u001b[0;34m'hits'\u001b[0m\u001b[0;34m]\u001b[0m\u001b[0;34m[\u001b[0m\u001b[0;34m'hits'\u001b[0m\u001b[0;34m]\u001b[0m\u001b[0;34m[\u001b[0m\u001b[0m_idx\u001b[0m\u001b[0;34m]\u001b[0m\u001b[0;34m[\u001b[0m\u001b[0;34m'_source'\u001b[0m\u001b[0;34m]\u001b[0m\u001b[0;34m[\u001b[0m\u001b[0;34m'my_vector1'\u001b[0m\u001b[0;34m]\u001b[0m\u001b[0;34m\u001b[0m\u001b[0;34m\u001b[0m\u001b[0m\n",
      "\u001b[0;31mModuleNotFoundError\u001b[0m: No module named 'sklearn'"
     ]
    }
   ],
   "source": [
    "from sklearn.metrics.pairwise import cosine_similarity\n",
    "\n",
    "for _idx in range(10):\n",
    "    result_id = result['hits']['hits'][_idx]['_id']\n",
    "    result_embedding = result['hits']['hits'][_idx]['_source']['my_vector1']\n",
    "    result_score = result['hits']['hits'][_idx]['_score']\n",
    "    print(\"AWS ES score for id {} is {}\\n\".format(result_id,result_score))\n",
    "    \n",
    "    cos_score = cosine_similarity([QUERY_EMBEDDING, result_embedding])\n",
    "    print(\"Sklearn cosine score for id {} is {}\\n\".format(result_id,round(cos_score[0][1],4)))\n",
    "# result['hits']['hits'][1]"
   ]
  },
  {
   "cell_type": "code",
   "execution_count": null,
   "metadata": {
    "ExecuteTime": {
     "end_time": "2020-04-02T12:17:41.161682Z",
     "start_time": "2020-04-02T12:17:41.140445Z"
    }
   },
   "outputs": [],
   "source": [
    "result['hits']['hits'][_idx]"
   ]
  }
 ],
 "metadata": {
  "kernelspec": {
   "display_name": "Python 3",
   "language": "python",
   "name": "python3"
  },
  "language_info": {
   "codemirror_mode": {
    "name": "ipython",
    "version": 3
   },
   "file_extension": ".py",
   "mimetype": "text/x-python",
   "name": "python",
   "nbconvert_exporter": "python",
   "pygments_lexer": "ipython3",
   "version": "3.8.2"
  }
 },
 "nbformat": 4,
 "nbformat_minor": 2
}
